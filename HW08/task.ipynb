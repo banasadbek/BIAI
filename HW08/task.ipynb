{
 "cells": [
  {
   "cell_type": "markdown",
   "metadata": {},
   "source": [
    "# Lesson 8 homework"
   ]
  },
  {
   "cell_type": "code",
   "execution_count": 3,
   "metadata": {},
   "outputs": [
    {
     "name": "stdout",
     "output_type": "stream",
     "text": [
      "[0. 0. 0. 0. 0. 1. 0. 0. 0. 0.]\n"
     ]
    }
   ],
   "source": [
    "import numpy as np\n",
    "\n",
    "#task1\n",
    "array1 = np.zeros(10)\n",
    "array1[5] = 1\n",
    "print(array1)"
   ]
  },
  {
   "cell_type": "code",
   "execution_count": 5,
   "metadata": {},
   "outputs": [
    {
     "name": "stdout",
     "output_type": "stream",
     "text": [
      "[10 11 12 13 14 15 16 17 18 19 20 21 22 23 24 25 26 27 28 29 30 31 32 33\n",
      " 34 35 36 37 38 39 40 41 42 43 44 45 46 47 48 49]\n"
     ]
    }
   ],
   "source": [
    "#task2\n",
    "array2 = np.arange(10,50)\n",
    "print(array2)"
   ]
  },
  {
   "cell_type": "code",
   "execution_count": 6,
   "metadata": {},
   "outputs": [
    {
     "name": "stdout",
     "output_type": "stream",
     "text": [
      "[49 48 47 46 45 44 43 42 41 40 39 38 37 36 35 34 33 32 31 30 29 28 27 26\n",
      " 25 24 23 22 21 20 19 18 17 16 15 14 13 12 11 10]\n"
     ]
    }
   ],
   "source": [
    "#task3\n",
    "array3 = array2[::-1]\n",
    "print(array3)"
   ]
  },
  {
   "cell_type": "code",
   "execution_count": 7,
   "metadata": {},
   "outputs": [
    {
     "name": "stdout",
     "output_type": "stream",
     "text": [
      "[[0 1 2]\n",
      " [3 4 5]\n",
      " [6 7 8]]\n"
     ]
    }
   ],
   "source": [
    "#task4\n",
    "matrix1 = np.arange(9).reshape(3,3)\n",
    "print(matrix1)"
   ]
  },
  {
   "cell_type": "code",
   "execution_count": null,
   "metadata": {},
   "outputs": [
    {
     "name": "stdout",
     "output_type": "stream",
     "text": [
      "[0 1 4]\n"
     ]
    }
   ],
   "source": [
    "#task5\n",
    "array4 = np.array([1,2,0,0,4,0])\n",
    "non_zero = np.nonzero(array4)[0]\n",
    "print(non_zero)"
   ]
  },
  {
   "cell_type": "code",
   "execution_count": null,
   "metadata": {},
   "outputs": [
    {
     "name": "stdout",
     "output_type": "stream",
     "text": [
      "[[1. 0. 0.]\n",
      " [0. 1. 0.]\n",
      " [0. 0. 1.]]\n"
     ]
    }
   ],
   "source": [
    "#task6\n",
    "indentity_matrix = np.eye(3)\n",
    "print(indentity_matrix)"
   ]
  },
  {
   "cell_type": "code",
   "execution_count": 11,
   "metadata": {},
   "outputs": [
    {
     "name": "stdout",
     "output_type": "stream",
     "text": [
      "[[0.45840589 0.74277066 0.55744375]\n",
      " [0.78820199 0.40371698 0.77729412]\n",
      " [0.42578236 0.90029194 0.55159002]]\n",
      "Minimum value: 0.4037169786017022\n",
      "Maximum value: 0.9002919427920228\n"
     ]
    }
   ],
   "source": [
    "#task7\n",
    "random_matrix = np.random.rand(3, 3)\n",
    "min_val = np.min(random_matrix)\n",
    "max_val = np.max(random_matrix)\n",
    "print(random_matrix)\n",
    "print(\"Minimum value:\", min_val)\n",
    "print(\"Maximum value:\", max_val)"
   ]
  },
  {
   "cell_type": "code",
   "execution_count": null,
   "metadata": {},
   "outputs": [
    {
     "name": "stdout",
     "output_type": "stream",
     "text": [
      "Normalized matrix:  [[ 5.00934366  1.56620856  4.33901176  8.63036677  8.72695334]\n",
      " [ 7.63009188  2.59347539  9.23547049 11.06263198  4.00856382]\n",
      " [ 2.71777866  9.88593229  7.63441509  3.773553    0.        ]\n",
      " [ 2.81132338  6.54289055  7.42402889 11.09730801 12.22973014]\n",
      " [ 7.30549491  3.59875787  3.73329281 11.77088122 10.14179455]]\n"
     ]
    }
   ],
   "source": [
    "#task8\n",
    "random_matrix_5 = np.random.rand(5,5)\n",
    "normalized_matrix = (random_matrix_5 - np.min(random_matrix_5))/(np.min(random_matrix_5))\n",
    "print('Normalized matrix: ', normalized_matrix)"
   ]
  },
  {
   "cell_type": "code",
   "execution_count": 13,
   "metadata": {},
   "outputs": [
    {
     "name": "stdout",
     "output_type": "stream",
     "text": [
      "15\n"
     ]
    }
   ],
   "source": [
    "#task9\n",
    "array5 = np.array([1,3,5,11,15,20,25])\n",
    "target = 14\n",
    "closest = array5[(np.abs(array5 - target)).argmin()]\n",
    "print(closest)"
   ]
  },
  {
   "cell_type": "code",
   "execution_count": 15,
   "metadata": {},
   "outputs": [
    {
     "name": "stdout",
     "output_type": "stream",
     "text": [
      "[[ 5  0  3]\n",
      " [10  2  0]\n",
      " [ 6  7  0]]\n"
     ]
    }
   ],
   "source": [
    "#task10\n",
    "array6 = np.array([[5,9,3],[10,2,15],[6,7,8]])\n",
    "for row in range(array6.shape[0]):\n",
    "    row_matrix_index = array6[row].argmax()\n",
    "    array6[row, row_matrix_index] = 0\n",
    "print(array6)"
   ]
  },
  {
   "cell_type": "code",
   "execution_count": 17,
   "metadata": {},
   "outputs": [
    {
     "name": "stdout",
     "output_type": "stream",
     "text": [
      "5\n"
     ]
    }
   ],
   "source": [
    "#task11\n",
    "array7 = np.array([2, 3, 2, 5, 8, 3, 3, 7, 2, 3, 5, 5, 5, 5])\n",
    "common_value = np.bincount(array7).argmax()\n",
    "print(common_value)\n"
   ]
  },
  {
   "cell_type": "code",
   "execution_count": 18,
   "metadata": {},
   "outputs": [
    {
     "name": "stdout",
     "output_type": "stream",
     "text": [
      "[[ 14  32  50]\n",
      " [ 32  77 122]\n",
      " [ 50 122 194]]\n"
     ]
    }
   ],
   "source": [
    "#task12\n",
    "array8 = np.array([[1, 2, 3], [4, 5, 6], [7, 8, 9]])\n",
    "matrix_product = np.dot(array8, array8.T)\n",
    "print(matrix_product)"
   ]
  },
  {
   "cell_type": "code",
   "execution_count": 19,
   "metadata": {},
   "outputs": [
    {
     "name": "stdout",
     "output_type": "stream",
     "text": [
      "-306.0\n"
     ]
    }
   ],
   "source": [
    "#task13\n",
    "matrix2 = np.array([[6, 1, 1], [4, -2, 5], [2, 8, 7]])\n",
    "determinant = np.linalg.det(matrix2)\n",
    "print(determinant)"
   ]
  },
  {
   "cell_type": "code",
   "execution_count": 20,
   "metadata": {},
   "outputs": [
    {
     "name": "stdout",
     "output_type": "stream",
     "text": [
      "\n",
      "Inverse of the matrix:\n",
      " [[-24.  18.   5.]\n",
      " [ 20. -15.  -4.]\n",
      " [ -5.   4.   1.]]\n"
     ]
    }
   ],
   "source": [
    "#task14\n",
    "matrix3 = np.array([[1, 2, 3], [0, 1, 4], [5, 6, 0]])\n",
    "try:\n",
    "    inverse_matrix = np.linalg.inv(matrix3)\n",
    "    print(\"\\nInverse of the matrix:\\n\", inverse_matrix)\n",
    "except np.linalg.LinAlgError:\n",
    "    print(\"\\nMatrix is singular (non-invertible) and does not have an inverse.\")"
   ]
  }
 ],
 "metadata": {
  "kernelspec": {
   "display_name": "Python 3",
   "language": "python",
   "name": "python3"
  },
  "language_info": {
   "codemirror_mode": {
    "name": "ipython",
    "version": 3
   },
   "file_extension": ".py",
   "mimetype": "text/x-python",
   "name": "python",
   "nbconvert_exporter": "python",
   "pygments_lexer": "ipython3",
   "version": "3.12.4"
  }
 },
 "nbformat": 4,
 "nbformat_minor": 2
}
